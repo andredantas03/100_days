{
 "cells": [
  {
   "cell_type": "code",
   "execution_count": 34,
   "id": "fcdd11fb",
   "metadata": {},
   "outputs": [],
   "source": [
    "import pandas as pd\n",
    "data = pd.read_csv(\".\\\\25.US_states_game\\\\50_states.csv\")\n",
    "data.set_index(\"state\", inplace=True)"
   ]
  },
  {
   "cell_type": "code",
   "execution_count": 67,
   "id": "be062484",
   "metadata": {},
   "outputs": [
    {
     "data": {
      "text/plain": [
       "0    Alabama\n",
       "0    Alabama\n",
       "dtype: object"
      ]
     },
     "execution_count": 67,
     "metadata": {},
     "output_type": "execute_result"
    }
   ],
   "source": [
    "pd.concat([pd.Series([\"Alabama\"]),pd.Series([\"Alabama\"])])"
   ]
  },
  {
   "cell_type": "code",
   "execution_count": 74,
   "id": "6a9798ac",
   "metadata": {},
   "outputs": [
    {
     "data": {
      "text/plain": [
       "0"
      ]
     },
     "execution_count": 74,
     "metadata": {},
     "output_type": "execute_result"
    }
   ],
   "source": [
    "ls=[]\n",
    "with open(\"E:\\\\100_Days_of_code\\\\Code\\\\100_days\\\\25.US_states_game\\\\track_score.txt\",\"r\") as file:\n",
    "    for state in file.readlines():\n",
    "        ls.append(state)\n",
    "len(ls)"
   ]
  },
  {
   "cell_type": "code",
   "execution_count": 75,
   "id": "2f79eb90",
   "metadata": {},
   "outputs": [
    {
     "name": "stdout",
     "output_type": "stream",
     "text": [
      "['a', 'b']\n"
     ]
    }
   ],
   "source": [
    "ls=[]\n",
    "ls.append(\"a\")\n",
    "ls.append(\"b\")\n",
    "print(ls)"
   ]
  }
 ],
 "metadata": {
  "kernelspec": {
   "display_name": "100_days",
   "language": "python",
   "name": "python3"
  },
  "language_info": {
   "codemirror_mode": {
    "name": "ipython",
    "version": 3
   },
   "file_extension": ".py",
   "mimetype": "text/x-python",
   "name": "python",
   "nbconvert_exporter": "python",
   "pygments_lexer": "ipython3",
   "version": "3.13.2"
  }
 },
 "nbformat": 4,
 "nbformat_minor": 5
}
